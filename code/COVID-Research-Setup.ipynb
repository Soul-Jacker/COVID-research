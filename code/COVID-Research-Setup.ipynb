{
 "cells": [
  {
   "cell_type": "markdown",
   "id": "be463fd4",
   "metadata": {},
   "source": [
    "# COVID research: empirical vs. non-empirical\n",
    "\n",
    "\n",
    "\n",
    "This notebook prepares the COVID Dimensions for model building and analysis.  The data file is too large to be stored on GitHub, so the file is stored in the data folder but included in `.gitignore`.  \n",
    "\n",
    "Dimensions created the data file using the following query:\n",
    "\n",
    ">\"2019-nCoV\" OR \"COVID-19\" OR “SARS-CoV-2” OR \"HCoV-2019\" OR \"hcov\" OR \"NCOVID-19\" OR \"severe acute respiratory syndrome coronavirus 2\" OR \"severe acute respiratory syndrome corona virus 2\" OR “coronavirus disease 2019” OR ((\"coronavirus\" OR \"corona virus\") AND (Wuhan OR China OR novel))\n",
    "\n",
    "The current data export version used is 2020-07-03, which can be obtained from [Dimensions](https://dimensions.figshare.com/articles/dataset/Dimensions_COVID-19_publications_datasets_and_clinical_trials/11961063) via Figshare.\n",
    "\n"
   ]
  },
  {
   "cell_type": "markdown",
   "id": "a077aa68",
   "metadata": {},
   "source": [
    "## Workspace set-up"
   ]
  },
  {
   "cell_type": "code",
   "execution_count": 1,
   "id": "00f58a36",
   "metadata": {},
   "outputs": [],
   "source": [
    "import pandas as pd\n",
    "import numpy as np\n",
    "from datetime import date\n",
    "\n"
   ]
  },
  {
   "cell_type": "code",
   "execution_count": 2,
   "id": "32479bc8",
   "metadata": {},
   "outputs": [],
   "source": [
    "# Missing values function I grabbed from Kaggle\n",
    "# https://www.kaggle.com/parulpandey/a-guide-to-handling-missing-values-in-python\n",
    "\n",
    "def missing_values_table(df):\n",
    "        # Total missing values\n",
    "        mis_val = df.isnull().sum()\n",
    "        \n",
    "        # Percentage of missing values\n",
    "        mis_val_percent = 100 * df.isnull().sum() / len(df)\n",
    "        \n",
    "        # Make a table with the results\n",
    "        mis_val_table = pd.concat([mis_val, mis_val_percent], axis=1)\n",
    "        \n",
    "        # Rename the columns\n",
    "        mis_val_table_ren_columns = mis_val_table.rename(\n",
    "        columns = {0 : 'Missing Values', 1 : '% of Total Values'})\n",
    "        \n",
    "        # Sort the table by percentage of missing descending\n",
    "        mis_val_table_ren_columns = mis_val_table_ren_columns[\n",
    "            mis_val_table_ren_columns.iloc[:,1] != 0].sort_values(\n",
    "        '% of Total Values', ascending=False).round(1)\n",
    "        \n",
    "        # Print some summary information\n",
    "        print (\"Your selected dataframe has \" + str(df.shape[1]) + \" columns.\\n\"      \n",
    "            \"There are \" + str(mis_val_table_ren_columns.shape[0]) +\n",
    "              \" columns that have missing values.\")\n",
    "        \n",
    "        # Return the dataframe with missing information\n",
    "        return mis_val_table_ren_columns"
   ]
  },
  {
   "cell_type": "code",
   "execution_count": 3,
   "id": "acf84463",
   "metadata": {},
   "outputs": [],
   "source": [
    "# Read in data file\n",
    "# Note the lineterminator argument\n",
    "df = pd.read_csv('/Users/brian/Coding/COVID-research/data/dimensions-covid19-export-2021-07-03-h06-38-27_publications.csv', lineterminator='\\n')"
   ]
  },
  {
   "cell_type": "markdown",
   "id": "74a0037a",
   "metadata": {},
   "source": [
    "## Data preparation and screening\n"
   ]
  },
  {
   "cell_type": "code",
   "execution_count": 4,
   "id": "f45c4661",
   "metadata": {},
   "outputs": [
    {
     "name": "stdout",
     "output_type": "stream",
     "text": [
      "Index(['Date added', 'Publication ID', 'DOI', 'PMID', 'PMCID', 'Title',\n",
      "       'Abstract', 'Source title', 'Source UID', 'Publisher', 'MeSH terms',\n",
      "       'Publication Date', 'PubYear', 'Volume', 'Issue', 'Pagination',\n",
      "       'Open Access', 'Publication Type', 'Authors', 'Corresponding Authors',\n",
      "       'Authors Affiliations', 'Research Organizations - standardized',\n",
      "       'GRID IDs', 'City of Research organization',\n",
      "       'Country of Research organization', 'Funder',\n",
      "       'UIDs of supporting grants', 'Times cited', 'Altmetric',\n",
      "       'Source Linkout', 'Dimensions URL'],\n",
      "      dtype='object') (507443, 31)\n"
     ]
    }
   ],
   "source": [
    "print(df.columns, df.shape)"
   ]
  },
  {
   "cell_type": "code",
   "execution_count": 5,
   "id": "6777b45c",
   "metadata": {},
   "outputs": [
    {
     "data": {
      "text/plain": [
       "Index(['Publication ID', 'Title', 'Abstract', 'Source title',\n",
       "       'Publication Date', 'PubYear', 'Publication Type'],\n",
       "      dtype='object')"
      ]
     },
     "execution_count": 5,
     "metadata": {},
     "output_type": "execute_result"
    }
   ],
   "source": [
    "# Drop unnecessary variables\n",
    "df = df[['Publication ID', 'Title', 'Abstract', \\\n",
    "         'Source title', 'Publication Date', 'PubYear', 'Publication Type']]\n",
    "\n",
    "df.columns"
   ]
  },
  {
   "cell_type": "code",
   "execution_count": 9,
   "id": "18c7ea1c",
   "metadata": {},
   "outputs": [
    {
     "data": {
      "text/plain": [
       "Index(['ID', 'Title', 'Abstract', 'Journal', 'PubDate', 'PubYear', 'PubType'], dtype='object')"
      ]
     },
     "execution_count": 9,
     "metadata": {},
     "output_type": "execute_result"
    }
   ],
   "source": [
    "df = df.rename(columns={\"Publication ID\":\"ID\", \"Source title\": \"Journal\", \n",
    "                        \"Publication Date\":\"PubDate\", \"Publication Type\": \"PubType\"})\n",
    "df.columns"
   ]
  },
  {
   "cell_type": "code",
   "execution_count": 10,
   "id": "0fe878fe",
   "metadata": {},
   "outputs": [
    {
     "data": {
      "text/plain": [
       "array(['article', 'chapter', 'preprint', 'monograph', 'proceeding',\n",
       "       'book'], dtype=object)"
      ]
     },
     "execution_count": 10,
     "metadata": {},
     "output_type": "execute_result"
    }
   ],
   "source": [
    "#Obtain list of unique values of article types\n",
    "pd.unique(df.PubType)"
   ]
  },
  {
   "cell_type": "code",
   "execution_count": 11,
   "id": "8a07541d",
   "metadata": {},
   "outputs": [
    {
     "name": "stdout",
     "output_type": "stream",
     "text": [
      "(406564, 7)\n"
     ]
    }
   ],
   "source": [
    "# Reduce data to only 'articles'\n",
    "df_articles = df[df[\"PubType\"] == 'article']\n",
    "print(df_articles.shape)"
   ]
  },
  {
   "cell_type": "code",
   "execution_count": 12,
   "id": "569c813e",
   "metadata": {},
   "outputs": [
    {
     "name": "stdout",
     "output_type": "stream",
     "text": [
      "Your selected dataframe has 7 columns.\n",
      "There are 2 columns that have missing values.\n"
     ]
    },
    {
     "data": {
      "text/html": [
       "<div>\n",
       "<style scoped>\n",
       "    .dataframe tbody tr th:only-of-type {\n",
       "        vertical-align: middle;\n",
       "    }\n",
       "\n",
       "    .dataframe tbody tr th {\n",
       "        vertical-align: top;\n",
       "    }\n",
       "\n",
       "    .dataframe thead th {\n",
       "        text-align: right;\n",
       "    }\n",
       "</style>\n",
       "<table border=\"1\" class=\"dataframe\">\n",
       "  <thead>\n",
       "    <tr style=\"text-align: right;\">\n",
       "      <th></th>\n",
       "      <th>Missing Values</th>\n",
       "      <th>% of Total Values</th>\n",
       "    </tr>\n",
       "  </thead>\n",
       "  <tbody>\n",
       "    <tr>\n",
       "      <th>Abstract</th>\n",
       "      <td>122823</td>\n",
       "      <td>30.2</td>\n",
       "    </tr>\n",
       "    <tr>\n",
       "      <th>Journal</th>\n",
       "      <td>10006</td>\n",
       "      <td>2.5</td>\n",
       "    </tr>\n",
       "  </tbody>\n",
       "</table>\n",
       "</div>"
      ],
      "text/plain": [
       "          Missing Values  % of Total Values\n",
       "Abstract          122823               30.2\n",
       "Journal            10006                2.5"
      ]
     },
     "execution_count": 12,
     "metadata": {},
     "output_type": "execute_result"
    }
   ],
   "source": [
    "missing = missing_values_table(df_articles)\n",
    "missing"
   ]
  }
 ],
 "metadata": {
  "kernelspec": {
   "display_name": "Python 3 (ipykernel)",
   "language": "python",
   "name": "python3"
  },
  "language_info": {
   "codemirror_mode": {
    "name": "ipython",
    "version": 3
   },
   "file_extension": ".py",
   "mimetype": "text/x-python",
   "name": "python",
   "nbconvert_exporter": "python",
   "pygments_lexer": "ipython3",
   "version": "3.8.11"
  },
  "varInspector": {
   "cols": {
    "lenName": 16,
    "lenType": 16,
    "lenVar": 40
   },
   "kernels_config": {
    "python": {
     "delete_cmd_postfix": "",
     "delete_cmd_prefix": "del ",
     "library": "var_list.py",
     "varRefreshCmd": "print(var_dic_list())"
    },
    "r": {
     "delete_cmd_postfix": ") ",
     "delete_cmd_prefix": "rm(",
     "library": "var_list.r",
     "varRefreshCmd": "cat(var_dic_list()) "
    }
   },
   "types_to_exclude": [
    "module",
    "function",
    "builtin_function_or_method",
    "instance",
    "_Feature"
   ],
   "window_display": false
  }
 },
 "nbformat": 4,
 "nbformat_minor": 5
}
